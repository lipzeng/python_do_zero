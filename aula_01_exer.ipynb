{
 "cells": [
  {
   "cell_type": "markdown",
   "id": "third-owner",
   "metadata": {},
   "source": [
    "## Aula 1\n",
    "### Solicitações do CEO\n"
   ]
  },
  {
   "cell_type": "code",
   "execution_count": 1,
   "id": "informed-elimination",
   "metadata": {
    "ExecuteTime": {
     "end_time": "2021-03-12T14:54:55.746727Z",
     "start_time": "2021-03-12T14:54:55.456292Z"
    }
   },
   "outputs": [],
   "source": [
    "# importação pacote pandas e DB\n",
    "\n",
    "import pandas as pd\n",
    "data = pd.read_csv( 'data/kc_house_data.csv' )"
   ]
  },
  {
   "cell_type": "code",
   "execution_count": 2,
   "id": "operating-disclaimer",
   "metadata": {
    "ExecuteTime": {
     "end_time": "2021-03-12T14:54:55.763315Z",
     "start_time": "2021-03-12T14:54:55.748326Z"
    }
   },
   "outputs": [
    {
     "data": {
      "text/plain": [
       "(21613, 21)"
      ]
     },
     "execution_count": 2,
     "metadata": {},
     "output_type": "execute_result"
    }
   ],
   "source": [
    "# 1. Quantas casas estão disponíveis para compra?\n",
    "\n",
    "data[data['price']!=0].shape"
   ]
  },
  {
   "cell_type": "code",
   "execution_count": 3,
   "id": "advanced-blond",
   "metadata": {
    "ExecuteTime": {
     "end_time": "2021-03-12T14:54:55.768125Z",
     "start_time": "2021-03-12T14:54:55.764788Z"
    }
   },
   "outputs": [
    {
     "data": {
      "text/plain": [
       "(21,)"
      ]
     },
     "execution_count": 3,
     "metadata": {},
     "output_type": "execute_result"
    }
   ],
   "source": [
    "# 2. Quantos atributos as casas possuem?\n",
    "\n",
    "data.dtypes.shape"
   ]
  },
  {
   "cell_type": "code",
   "execution_count": 4,
   "id": "overall-continent",
   "metadata": {
    "ExecuteTime": {
     "end_time": "2021-03-12T14:54:55.775918Z",
     "start_time": "2021-03-12T14:54:55.769439Z"
    }
   },
   "outputs": [
    {
     "data": {
      "text/plain": [
       "id                 int64\n",
       "date              object\n",
       "price            float64\n",
       "bedrooms           int64\n",
       "bathrooms        float64\n",
       "sqft_living        int64\n",
       "sqft_lot           int64\n",
       "floors           float64\n",
       "waterfront         int64\n",
       "view               int64\n",
       "condition          int64\n",
       "grade              int64\n",
       "sqft_above       float64\n",
       "sqft_basement      int64\n",
       "yr_built           int64\n",
       "yr_renovated       int64\n",
       "zipcode            int64\n",
       "lat              float64\n",
       "long             float64\n",
       "sqft_living15      int64\n",
       "sqft_lot15         int64\n",
       "dtype: object"
      ]
     },
     "execution_count": 4,
     "metadata": {},
     "output_type": "execute_result"
    }
   ],
   "source": [
    "# 3. Quais são os atributos das casas?\n",
    "\n",
    "data.dtypes"
   ]
  },
  {
   "cell_type": "code",
   "execution_count": 5,
   "id": "geographic-jacksonville",
   "metadata": {
    "ExecuteTime": {
     "end_time": "2021-03-12T14:54:55.782723Z",
     "start_time": "2021-03-12T14:54:55.777557Z"
    }
   },
   "outputs": [
    {
     "data": {
      "text/plain": [
       "7700000.0"
      ]
     },
     "execution_count": 5,
     "metadata": {},
     "output_type": "execute_result"
    }
   ],
   "source": [
    "# 4. Qual a casa mais cara ( casa com o maior valor de venda )?\n",
    "\n",
    "data['price'].max()"
   ]
  },
  {
   "cell_type": "code",
   "execution_count": 6,
   "id": "electric-deputy",
   "metadata": {
    "ExecuteTime": {
     "end_time": "2021-03-12T14:54:55.789915Z",
     "start_time": "2021-03-12T14:54:55.784305Z"
    }
   },
   "outputs": [
    {
     "data": {
      "text/plain": [
       "33"
      ]
     },
     "execution_count": 6,
     "metadata": {},
     "output_type": "execute_result"
    }
   ],
   "source": [
    "# 5. Qual a casa com o maior número de quartos?\n",
    "\n",
    "data['bedrooms'].max()"
   ]
  },
  {
   "cell_type": "code",
   "execution_count": 7,
   "id": "deadly-level",
   "metadata": {
    "ExecuteTime": {
     "end_time": "2021-03-12T14:54:55.796189Z",
     "start_time": "2021-03-12T14:54:55.792667Z"
    }
   },
   "outputs": [
    {
     "data": {
      "text/plain": [
       "72854"
      ]
     },
     "execution_count": 7,
     "metadata": {},
     "output_type": "execute_result"
    }
   ],
   "source": [
    "# 6. Qual a soma total de quartos do conjunto de dados?\n",
    "\n",
    "data['bedrooms'].sum()"
   ]
  },
  {
   "cell_type": "code",
   "execution_count": 8,
   "id": "tender-national",
   "metadata": {
    "ExecuteTime": {
     "end_time": "2021-03-12T14:54:55.803102Z",
     "start_time": "2021-03-12T14:54:55.797758Z"
    }
   },
   "outputs": [
    {
     "data": {
      "text/plain": [
       "(1930, 21)"
      ]
     },
     "execution_count": 8,
     "metadata": {},
     "output_type": "execute_result"
    }
   ],
   "source": [
    "# 7. Quantas casas possuem 2 banheiros?\n",
    "\n",
    "data[data['bathrooms']==2].shape"
   ]
  },
  {
   "cell_type": "code",
   "execution_count": 9,
   "id": "patent-madness",
   "metadata": {
    "ExecuteTime": {
     "end_time": "2021-03-12T14:54:55.809286Z",
     "start_time": "2021-03-12T14:54:55.804792Z"
    }
   },
   "outputs": [
    {
     "data": {
      "text/plain": [
       "540088.1417665294"
      ]
     },
     "execution_count": 9,
     "metadata": {},
     "output_type": "execute_result"
    }
   ],
   "source": [
    "# 8. Qual o preço médio de todas as casas no conjunto de dados?\n",
    "\n",
    "data['price'].mean()"
   ]
  },
  {
   "cell_type": "code",
   "execution_count": 10,
   "id": "flexible-locator",
   "metadata": {
    "ExecuteTime": {
     "end_time": "2021-03-12T14:54:55.817009Z",
     "start_time": "2021-03-12T14:54:55.810852Z"
    }
   },
   "outputs": [
    {
     "data": {
      "text/plain": [
       "457889.7186528497"
      ]
     },
     "execution_count": 10,
     "metadata": {},
     "output_type": "execute_result"
    }
   ],
   "source": [
    "# 9. Qual o preço médio de casas com 2 banheiros?\n",
    "\n",
    "data.loc[data['bathrooms']==2 , 'price'].mean()"
   ]
  },
  {
   "cell_type": "code",
   "execution_count": 11,
   "id": "curious-marketplace",
   "metadata": {
    "ExecuteTime": {
     "end_time": "2021-03-12T14:54:55.823873Z",
     "start_time": "2021-03-12T14:54:55.818637Z"
    }
   },
   "outputs": [
    {
     "data": {
      "text/plain": [
       "82000.0"
      ]
     },
     "execution_count": 11,
     "metadata": {},
     "output_type": "execute_result"
    }
   ],
   "source": [
    "# 10. Qual o preço mínimo entre as casas com 3 quartos?\n",
    "\n",
    "data.loc[data['bedrooms']==3, 'price'].min()"
   ]
  },
  {
   "cell_type": "code",
   "execution_count": 12,
   "id": "roman-translation",
   "metadata": {
    "ExecuteTime": {
     "end_time": "2021-03-12T14:54:55.833572Z",
     "start_time": "2021-03-12T14:54:55.826592Z"
    }
   },
   "outputs": [
    {
     "data": {
      "text/plain": [
       "(2141,)"
      ]
     },
     "execution_count": 12,
     "metadata": {},
     "output_type": "execute_result"
    }
   ],
   "source": [
    "# 11. Quantas casas possuem mais de 300 metros quadrados na sala de estar?\n",
    "\n",
    "data['m2_living'] = data['sqft_living'] * 0.092\n",
    "data.loc[data['m2_living'] > 300, 'id'].shape"
   ]
  },
  {
   "cell_type": "code",
   "execution_count": 13,
   "id": "subjective-sunglasses",
   "metadata": {
    "ExecuteTime": {
     "end_time": "2021-03-12T14:54:55.839832Z",
     "start_time": "2021-03-12T14:54:55.835239Z"
    }
   },
   "outputs": [
    {
     "data": {
      "text/plain": [
       "(782,)"
      ]
     },
     "execution_count": 13,
     "metadata": {},
     "output_type": "execute_result"
    }
   ],
   "source": [
    "# 12. Quantas casas tem mais de 2 andares?\n",
    "\n",
    "data.loc[data['floors'] > 2, 'id'].shape"
   ]
  },
  {
   "cell_type": "code",
   "execution_count": 14,
   "id": "painted-printer",
   "metadata": {
    "ExecuteTime": {
     "end_time": "2021-03-12T14:54:55.845882Z",
     "start_time": "2021-03-12T14:54:55.841332Z"
    }
   },
   "outputs": [
    {
     "data": {
      "text/plain": [
       "(163,)"
      ]
     },
     "execution_count": 14,
     "metadata": {},
     "output_type": "execute_result"
    }
   ],
   "source": [
    "# 13. Quantas casas tem vista para o mar?\n",
    "\n",
    "data.loc[data['waterfront']==True, 'id'].shape"
   ]
  },
  {
   "cell_type": "code",
   "execution_count": 15,
   "id": "structured-stuff",
   "metadata": {
    "ExecuteTime": {
     "end_time": "2021-03-12T14:54:55.853282Z",
     "start_time": "2021-03-12T14:54:55.847263Z"
    }
   },
   "outputs": [
    {
     "data": {
      "text/plain": [
       "(64,)"
      ]
     },
     "execution_count": 15,
     "metadata": {},
     "output_type": "execute_result"
    }
   ],
   "source": [
    "# 14. Das casas com vista para o mar, quantas tem 3 quartos?\n",
    "\n",
    "data.loc[(data['waterfront']==True) & (data['bedrooms']==3), 'id'].shape"
   ]
  }
 ],
 "metadata": {
  "kernelspec": {
   "display_name": "Python 3",
   "language": "python",
   "name": "python3"
  },
  "language_info": {
   "codemirror_mode": {
    "name": "ipython",
    "version": 3
   },
   "file_extension": ".py",
   "mimetype": "text/x-python",
   "name": "python",
   "nbconvert_exporter": "python",
   "pygments_lexer": "ipython3",
   "version": "3.8.0"
  }
 },
 "nbformat": 4,
 "nbformat_minor": 5
}
